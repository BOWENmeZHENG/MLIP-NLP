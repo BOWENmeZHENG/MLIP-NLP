{
 "cells": [
  {
   "cell_type": "code",
   "execution_count": 1,
   "id": "23638883",
   "metadata": {},
   "outputs": [],
   "source": [
    "from transformers import BertForMaskedLM, BertTokenizer\n",
    "tokenizerBERT = BertTokenizer.from_pretrained('pranav-s/MaterialsBERT')\n",
    "modelBERT = BertForMaskedLM.from_pretrained('pranav-s/MaterialsBERT')\n"
   ]
  },
  {
   "cell_type": "code",
   "execution_count": 2,
   "id": "14feeeec",
   "metadata": {},
   "outputs": [],
   "source": [
    "from transformers import AutoModelForTokenClassification, AutoTokenizer, pipeline\n",
    "tokenizerNER = AutoTokenizer.from_pretrained('pranav-s/PolymerNER', model_max_length=512)\n",
    "modelNER = AutoModelForTokenClassification.from_pretrained('pranav-s/PolymerNER')"
   ]
  },
  {
   "cell_type": "code",
   "execution_count": 3,
   "id": "49cabb82",
   "metadata": {},
   "outputs": [],
   "source": [
    "text = \"Polyethylene has a glass transition temperature of -100 °C\""
   ]
  },
  {
   "cell_type": "code",
   "execution_count": 7,
   "id": "0ea75299",
   "metadata": {},
   "outputs": [
    {
     "data": {
      "text/plain": [
       "MaskedLMOutput(loss=None, logits=tensor([[[ -4.7820,  -5.2611,   2.1092,  ...,  -4.2570,  -4.2500,  -3.2924],\n",
       "         [ -7.6672,  -6.8043,  -6.4853,  ...,  -4.8227,  -4.6318,  -0.4656],\n",
       "         [-11.1636,  -6.4960,  -4.9434,  ..., -10.1309,  -9.7693,  -5.4904],\n",
       "         ...,\n",
       "         [-10.1357,  -9.6074,  -3.4031,  ...,  -6.4852,  -9.6897,  -6.8005],\n",
       "         [ -4.7816,  -5.2608,   2.1091,  ...,  -4.2565,  -4.2497,  -3.2918],\n",
       "         [ -4.7820,  -5.2611,   2.1092,  ...,  -4.2570,  -4.2500,  -3.2924]]],\n",
       "       grad_fn=<ViewBackward0>), hidden_states=None, attentions=None)"
      ]
     },
     "execution_count": 7,
     "metadata": {},
     "output_type": "execute_result"
    }
   ],
   "source": [
    "encoded_input = tokenizerBERT(text, return_tensors='pt')\n",
    "output = modelBERT(**encoded_input)\n",
    "output"
   ]
  },
  {
   "cell_type": "code",
   "execution_count": 5,
   "id": "ecffdc1b",
   "metadata": {},
   "outputs": [],
   "source": [
    "ner_pipeline = pipeline(task=\"ner\", model=modelNER, tokenizer=tokenizerNER, \n",
    "                        aggregation_strategy=\"simple\", device='cpu')\n",
    "ner_output = ner_pipeline(text)"
   ]
  },
  {
   "cell_type": "code",
   "execution_count": 6,
   "id": "7220e28d",
   "metadata": {},
   "outputs": [
    {
     "data": {
      "text/plain": [
       "[{'entity_group': 'POLYMER',\n",
       "  'score': 0.8516071,\n",
       "  'word': 'polyethylene',\n",
       "  'start': 0,\n",
       "  'end': 12},\n",
       " {'entity_group': 'PROP_NAME',\n",
       "  'score': 0.9091645,\n",
       "  'word': 'glass transition temperature',\n",
       "  'start': 19,\n",
       "  'end': 47},\n",
       " {'entity_group': 'PROP_VALUE',\n",
       "  'score': 0.8318631,\n",
       "  'word': '- 100 °c',\n",
       "  'start': 51,\n",
       "  'end': 58}]"
      ]
     },
     "execution_count": 6,
     "metadata": {},
     "output_type": "execute_result"
    }
   ],
   "source": [
    "ner_output"
   ]
  },
  {
   "cell_type": "code",
   "execution_count": null,
   "id": "b48991ff",
   "metadata": {},
   "outputs": [],
   "source": []
  }
 ],
 "metadata": {
  "kernelspec": {
   "display_name": "Python 3 (ipykernel)",
   "language": "python",
   "name": "python3"
  },
  "language_info": {
   "codemirror_mode": {
    "name": "ipython",
    "version": 3
   },
   "file_extension": ".py",
   "mimetype": "text/x-python",
   "name": "python",
   "nbconvert_exporter": "python",
   "pygments_lexer": "ipython3",
   "version": "3.10.13"
  }
 },
 "nbformat": 4,
 "nbformat_minor": 5
}
