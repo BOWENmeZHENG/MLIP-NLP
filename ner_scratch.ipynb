{
 "cells": [
  {
   "cell_type": "code",
   "execution_count": 1,
   "id": "7f57021b",
   "metadata": {},
   "outputs": [],
   "source": [
    "from transformers import BertForMaskedLM, BertTokenizer\n",
    "tokenizerBERT = BertTokenizer.from_pretrained('pranav-s/MaterialsBERT')\n",
    "modelBERT = BertForMaskedLM.from_pretrained('pranav-s/MaterialsBERT')"
   ]
  },
  {
   "cell_type": "code",
   "execution_count": null,
   "id": "fd939764",
   "metadata": {},
   "outputs": [],
   "source": [
    "# from transformers import AutoModelForTokenClassification, AutoTokenizer, pipeline\n",
    "# tokenizerNER = AutoTokenizer.from_pretrained('pranav-s/PolymerNER', model_max_length=512)\n",
    "# modelNER = AutoModelForTokenClassification.from_pretrained('pranav-s/PolymerNER')"
   ]
  },
  {
   "cell_type": "code",
   "execution_count": null,
   "id": "49cabb82",
   "metadata": {},
   "outputs": [],
   "source": [
    "text = \"Polyethylene has a glass transition temperature of -100 °C\""
   ]
  },
  {
   "cell_type": "code",
   "execution_count": null,
   "id": "7aed5957",
   "metadata": {},
   "outputs": [],
   "source": [
    "encoded_input = tokenizerBERT(text, return_tensors='pt')\n",
    "output = modelBERT(**encoded_input)\n",
    "output"
   ]
  },
  {
   "cell_type": "code",
   "execution_count": null,
   "id": "ecffdc1b",
   "metadata": {},
   "outputs": [],
   "source": [
    "ner_pipeline = pipeline(task=\"ner\", model=modelNER, tokenizer=tokenizerNER, \n",
    "                        aggregation_strategy=\"simple\", device='cpu')\n",
    "ner_output = ner_pipeline(text)"
   ]
  },
  {
   "cell_type": "code",
   "execution_count": null,
   "id": "7220e28d",
   "metadata": {},
   "outputs": [],
   "source": [
    "ner_output"
   ]
  },
  {
   "cell_type": "code",
   "execution_count": null,
   "id": "a7bc5a08",
   "metadata": {},
   "outputs": [],
   "source": [
    "token = tokenizerBERT(text, return_tensors='pt')['input_ids']"
   ]
  },
  {
   "cell_type": "code",
   "execution_count": null,
   "id": "b3af980b",
   "metadata": {},
   "outputs": [],
   "source": [
    "tokenizerNER(text, return_tensors='pt')['input_ids']"
   ]
  },
  {
   "cell_type": "code",
   "execution_count": null,
   "id": "721d099e",
   "metadata": {},
   "outputs": [],
   "source": [
    "output = modelNER(token)\n",
    "print(output.logits)\n",
    "print(output.logits.shape)"
   ]
  },
  {
   "cell_type": "code",
   "execution_count": null,
   "id": "8d5cd050",
   "metadata": {},
   "outputs": [],
   "source": [
    "modelNER"
   ]
  },
  {
   "cell_type": "code",
   "execution_count": null,
   "id": "677311f1",
   "metadata": {},
   "outputs": [],
   "source": [
    "try1 = modelBERT.base_model(token)"
   ]
  },
  {
   "cell_type": "code",
   "execution_count": null,
   "id": "117fc419",
   "metadata": {},
   "outputs": [],
   "source": [
    "try1"
   ]
  },
  {
   "cell_type": "code",
   "execution_count": null,
   "id": "f7cf896e",
   "metadata": {},
   "outputs": [],
   "source": [
    "try2 = modelNER.base_model(token)"
   ]
  },
  {
   "cell_type": "code",
   "execution_count": null,
   "id": "6bb00f73",
   "metadata": {},
   "outputs": [],
   "source": [
    "try2"
   ]
  },
  {
   "cell_type": "code",
   "execution_count": null,
   "id": "dffea595",
   "metadata": {},
   "outputs": [],
   "source": [
    "modelBERT.base_model"
   ]
  },
  {
   "cell_type": "code",
   "execution_count": null,
   "id": "53a72f71",
   "metadata": {},
   "outputs": [],
   "source": [
    "modelNER.base_model"
   ]
  }
 ],
 "metadata": {
  "kernelspec": {
   "display_name": "Python 3 (ipykernel)",
   "language": "python",
   "name": "python3"
  },
  "language_info": {
   "codemirror_mode": {
    "name": "ipython",
    "version": 3
   },
   "file_extension": ".py",
   "mimetype": "text/x-python",
   "name": "python",
   "nbconvert_exporter": "python",
   "pygments_lexer": "ipython3",
   "version": "3.10.13"
  }
 },
 "nbformat": 4,
 "nbformat_minor": 5
}
