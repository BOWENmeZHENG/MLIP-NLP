{
 "cells": [
  {
   "cell_type": "code",
   "execution_count": null,
   "id": "d40589cd",
   "metadata": {},
   "outputs": [],
   "source": [
    "import utils\n",
    "APIKEY = 'f0556d93bef6dc8c951fbb1216901849'"
   ]
  },
  {
   "cell_type": "code",
   "execution_count": null,
   "id": "cbddaf9d",
   "metadata": {},
   "outputs": [],
   "source": [
    "results_all = utils.search_all('sciencedirect', 'machine+learning+interatomic+potential', APIKEY, \n",
    "                               number=120, get_abstract=True, get_full_text=True, save_to_file=True)"
   ]
  },
  {
   "cell_type": "code",
   "execution_count": null,
   "id": "c9e8738b",
   "metadata": {},
   "outputs": [],
   "source": [
    "data = utils.load_json('files/2024-02-14_sciencedirect_machine+learning+interatomic+potential_120.json')"
   ]
  }
 ],
 "metadata": {
  "kernelspec": {
   "display_name": "Python 3 (ipykernel)",
   "language": "python",
   "name": "python3"
  },
  "language_info": {
   "codemirror_mode": {
    "name": "ipython",
    "version": 3
   },
   "file_extension": ".py",
   "mimetype": "text/x-python",
   "name": "python",
   "nbconvert_exporter": "python",
   "pygments_lexer": "ipython3",
   "version": "3.10.13"
  },
  "vscode": {
   "interpreter": {
    "hash": "2fd8c2774523c70492200facfaf6163767f0efa2734b062ff64229cfb07b6dc4"
   }
  }
 },
 "nbformat": 4,
 "nbformat_minor": 5
}
