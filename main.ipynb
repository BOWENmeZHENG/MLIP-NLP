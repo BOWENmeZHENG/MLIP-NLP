{
 "cells": [
  {
   "cell_type": "code",
   "execution_count": null,
   "id": "d40589cd",
   "metadata": {},
   "outputs": [],
   "source": [
    "import utils\n",
    "APIKEY = 'f0556d93bef6dc8c951fbb1216901849'"
   ]
  },
  {
   "cell_type": "code",
   "execution_count": null,
   "id": "cbddaf9d",
   "metadata": {},
   "outputs": [],
   "source": [
    "results_all = utils.search_all('sciencedirect', 'machine+learning+interatomic+potential', APIKEY, \n",
    "                               number=120, get_abstract=True, get_full_text=True, save_to_file=True)"
   ]
  },
  {
   "cell_type": "code",
   "execution_count": null,
   "id": "c9e8738b",
   "metadata": {},
   "outputs": [],
   "source": [
    "data = utils.load_json('files/2024-02-14_sciencedirect_machine+learning+interatomic+potential_120.json')"
   ]
  },
  {
   "cell_type": "code",
   "execution_count": null,
   "id": "d12883bd",
   "metadata": {},
   "outputs": [],
   "source": [
    "utils.print_result(data[61])"
   ]
  },
  {
   "cell_type": "code",
   "execution_count": null,
   "id": "754c42c3",
   "metadata": {},
   "outputs": [],
   "source": [
    "data[111]"
   ]
  }
 ],
 "metadata": {
  "kernelspec": {
   "display_name": "Python 3.10.6 64-bit",
   "language": "python",
   "name": "python3"
  },
  "language_info": {
   "codemirror_mode": {
    "name": "ipython",
    "version": 3
   },
   "file_extension": ".py",
   "mimetype": "text/x-python",
   "name": "python",
   "nbconvert_exporter": "python",
   "pygments_lexer": "ipython3",
   "version": "3.10.12"
  },
  "vscode": {
   "interpreter": {
    "hash": "31f2aee4e71d21fbe5cf8b01ff0e069b9275f58929596ceb00d14d90e3e16cd6"
   }
  }
 },
 "nbformat": 4,
 "nbformat_minor": 5
}
